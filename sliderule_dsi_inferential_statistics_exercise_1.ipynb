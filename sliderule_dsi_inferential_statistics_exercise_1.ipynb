{
 "cells": [
  {
   "cell_type": "markdown",
   "metadata": {},
   "source": [
    "# What is the True Normal Human Body Temperature? \n",
    "\n",
    "#### Background\n",
    "\n",
    "The mean normal body temperature was held to be 37$^{\\circ}$C or 98.6$^{\\circ}$F for more than 120 years since it was first conceptualized and reported by Carl Wunderlich in a famous 1868 book. But, is this value statistically correct?"
   ]
  },
  {
   "cell_type": "markdown",
   "metadata": {},
   "source": [
    "<h3>Exercises</h3>\n",
    "\n",
    "<p>In this exercise, you will analyze a dataset of human body temperatures and employ the concepts of hypothesis testing, confidence intervals, and statistical significance.</p>\n",
    "\n",
    "<p>Answer the following questions <b>in this notebook below and submit to your Github account</b>.</p> \n",
    "\n",
    "<ol>\n",
    "<li>  Is the distribution of body temperatures normal? \n",
    "    <ul>\n",
    "    <li> Although this is not a requirement for the Central Limit Theorem to hold (read the introduction on Wikipedia's page about the CLT carefully: https://en.wikipedia.org/wiki/Central_limit_theorem), it gives us some peace of mind that the population may also be normally distributed if we assume that this sample is representative of the population.\n",
    "    <li> Think about the way you're going to check for the normality of the distribution. Graphical methods are usually used first, but there are also other ways: https://en.wikipedia.org/wiki/Normality_test\n",
    "    </ul>\n",
    "<li>  Is the sample size large? Are the observations independent?\n",
    "    <ul>\n",
    "    <li> Remember that this is a condition for the Central Limit Theorem, and hence the statistical tests we are using, to apply.\n",
    "    </ul>\n",
    "<li>  Is the true population mean really 98.6 degrees F?\n",
    "    <ul>\n",
    "    <li> First, try a bootstrap hypothesis test.\n",
    "    <li> Now, let's try frequentist statistical testing. Would you use a one-sample or two-sample test? Why?\n",
    "    <li> In this situation, is it appropriate to use the $t$ or $z$ statistic? \n",
    "    <li> Now try using the other test. How is the result be different? Why?\n",
    "    </ul>\n",
    "<li>  Draw a small sample of size 10 from the data and repeat both frequentist tests. \n",
    "    <ul>\n",
    "    <li> Which one is the correct one to use? \n",
    "    <li> What do you notice? What does this tell you about the difference in application of the $t$ and $z$ statistic?\n",
    "    </ul>\n",
    "<li>  At what temperature should we consider someone's temperature to be \"abnormal\"?\n",
    "    <ul>\n",
    "    <li> As in the previous example, try calculating everything using the boostrap approach, as well as the frequentist approach.\n",
    "    <li> Start by computing the margin of error and confidence interval. When calculating the confidence interval, keep in mind that you should use the appropriate formula for one draw, and not N draws.\n",
    "    </ul>\n",
    "<li>  Is there a significant difference between males and females in normal temperature?\n",
    "    <ul>\n",
    "    <li> What testing approach did you use and why?\n",
    "    <li> Write a story with your conclusion in the context of the original problem.\n",
    "    </ul>\n",
    "</ol>\n",
    "\n",
    "You can include written notes in notebook cells using Markdown: \n",
    "   - In the control panel at the top, choose Cell > Cell Type > Markdown\n",
    "   - Markdown syntax: http://nestacms.com/docs/creating-content/markdown-cheat-sheet\n",
    "\n",
    "#### Resources\n",
    "\n",
    "+ Information and data sources: http://www.amstat.org/publications/jse/datasets/normtemp.txt, http://www.amstat.org/publications/jse/jse_data_archive.htm\n",
    "+ Markdown syntax: http://nestacms.com/docs/creating-content/markdown-cheat-sheet\n",
    "\n",
    "****"
   ]
  },
  {
   "cell_type": "code",
   "execution_count": 50,
   "metadata": {},
   "outputs": [],
   "source": [
    "import pandas as pd\n",
    "import matplotlib.pyplot as plt\n",
    "import scipy\n",
    "import numpy as np\n",
    "df = pd.read_csv('data/human_body_temperature.csv')"
   ]
  },
  {
   "cell_type": "code",
   "execution_count": 77,
   "metadata": {},
   "outputs": [
    {
     "name": "stdout",
     "output_type": "stream",
     "text": [
      "NormaltestResult(statistic=2.703801433319203, pvalue=0.2587479863488254)\n",
      "SkewtestResult(statistic=-0.021370491432771, pvalue=0.9829501126135382)\n"
     ]
    },
    {
     "data": {
      "image/png": "[encoded data removed]",
      "text/plain": [
       "<matplotlib.figure.Figure at 0x24a5774a898>"
      ]
     },
     "metadata": {},
     "output_type": "display_data"
    }
   ],
   "source": [
    "# 1 is the data normally distributed?\n",
    "plt.hist(df['temperature'])\n",
    "print(scipy.stats.normaltest(df.temperature))\n",
    "# p value greater than alpha=.05, cannot reject null hypothesis that data is normally distributed\n",
    "print(scipy.stats.skewtest(df.temperature))"
   ]
  },
  {
   "cell_type": "code",
   "execution_count": 78,
   "metadata": {},
   "outputs": [
    {
     "data": {
      "text/plain": [
       "130"
      ]
     },
     "execution_count": 78,
     "metadata": {},
     "output_type": "execute_result"
    }
   ],
   "source": [
    "# 2 Is the sample size large? Are the observations independent?\n",
    "len(df.temperature)\n",
    "# n=130 seems big enough for central limit theorem to apply.  Of course this is a small sample compared to number of all humans.\n",
    "# would need more background info on how the dataset was acquired to determine if each temperature is truy independent, but that\n",
    "# seems to be the case in this context."
   ]
  },
  {
   "cell_type": "code",
   "execution_count": 59,
   "metadata": {},
   "outputs": [
    {
     "name": "stdout",
     "output_type": "stream",
     "text": [
      "p =  0.0\n",
      "-5.4759252020785585\n"
     ]
    },
    {
     "data": {
      "text/plain": [
       "Ttest_1sampResult(statistic=-5.4548232923645195, pvalue=2.4106320415561276e-07)"
      ]
     },
     "execution_count": 59,
     "metadata": {},
     "output_type": "execute_result"
    }
   ],
   "source": [
    "# 3 Is the true population mean really 98.6 degrees F?\n",
    "# In this case the null hypothesis would mean population mean (mu) is equal to 98.6.\n",
    "# bootstrap hypothesis test:\n",
    "temps = np.array(df.temperature)\n",
    "shifted_temps = temps - np.mean(temps) + 98.6\n",
    "bs_replicates = np.empty(10000)\n",
    "for i in range(10000):\n",
    "        bs_replicates[i] = np.mean(np.random.choice(shifted_temps, size=len(shifted_temps)))\n",
    "\n",
    "p = np.sum(bs_replicates <= np.mean(temps))/10000\n",
    "print('p = ', p)\n",
    "# p-value of zero suggest the null hypothesis is false and should be rejected.\n",
    "# 'frequentist' tests:\n",
    "# I have one sample so there would be no grounds to use a two sample test.\n",
    "# Because n is greater than 30 that would suggest to use the z-score but because the population standard deviation is unknown\n",
    "# I have to estimate it with the sample standard deviation so arguably either test could be used.\n",
    "Z = (np.mean(temps)-98.6)/(np.std(temps)/np.sqrt(len(temps)))\n",
    "print(Z)\n",
    "scipy.stats.ttest_1samp(temps,98.6)\n",
    "# both tests indicate that there is an extremely low probability that this sample was drawn from a population with a mean of \n",
    "# 98.6 and the null should be rejected.  The slight differences are because the two statistics use different distributions."
   ]
  },
  {
   "cell_type": "code",
   "execution_count": 65,
   "metadata": {},
   "outputs": [
    {
     "name": "stdout",
     "output_type": "stream",
     "text": [
      "-1.6916814420045578\n"
     ]
    },
    {
     "data": {
      "text/plain": [
       "Ttest_1sampResult(statistic=-1.604869929651733, pvalue=0.14298538339187772)"
      ]
     },
     "execution_count": 65,
     "metadata": {},
     "output_type": "execute_result"
    }
   ],
   "source": [
    "# 4 Draw a small sample of size 10 from the data and repeat both frequentist tests.\n",
    "sample = np.random.choice(temps,size=10,replace=False)\n",
    "Z = (np.mean(sample)-98.6)/(np.std(sample)/np.sqrt(len(sample)))\n",
    "print(Z)\n",
    "scipy.stats.ttest_1samp(sample,98.6)\n",
    "# The t-test is t-test is the right one to use because n<30.\n",
    "# There is now a greater difference between the t and Z statistics. This t-test now gives less than 99% confidence for the \n",
    "# rejection of the null hypothesis.  The t test and Z test converge as the sample size increases."
   ]
  },
  {
   "cell_type": "code",
   "execution_count": 76,
   "metadata": {},
   "outputs": [
    {
     "name": "stdout",
     "output_type": "stream",
     "text": [
      "0.06405661469519337\n",
      "96.07124654553661 100.42721499292489\n",
      "96.05815743251563 100.44030410594587\n"
     ]
    }
   ],
   "source": [
    "# 5 At what temperature should we consider someone's temperature to be \"abnormal\"?\n",
    "# I would say a value greater than 3 standard deviations away from the mean would be abnormal since that would equate to a \n",
    "# 99.7% confidence interval in a normal distribution\n",
    "print(np.std(temps)/np.sqrt(len(temps))) #standard error\n",
    "# bootstrap approach for calculating abnormal temperatures, taking the standard deviations of 10,000 simulated samples\n",
    "bs_replicates = np.empty(10000)\n",
    "for i in range(10000):\n",
    "        bs_replicates[i] = np.std(np.random.choice(temps, size=len(temps)))\n",
    "abnormal_low = np.mean(temps) - 3*np.mean(bs_replicates)\n",
    "abnormal_high = np.mean(temps) + 3*np.mean(bs_replicates)\n",
    "print(abnormal_low,abnormal_high)\n",
    "# frequentist approach\n",
    "abnormal_low = np.mean(temps) - 3*np.std(temps)\n",
    "abnormal_high = np.mean(temps) + 3*np.std(temps)\n",
    "print(abnormal_low,abnormal_high)"
   ]
  },
  {
   "cell_type": "code",
   "execution_count": 91,
   "metadata": {},
   "outputs": [
    {
     "name": "stdout",
     "output_type": "stream",
     "text": [
      "98.10461538461537\n",
      "98.39384615384614\n",
      "0.2892307692307696\n",
      "0.29213505467275824\n"
     ]
    }
   ],
   "source": [
    "# 6 Is there a significant difference between males and females in normal temperature?\n",
    "males= df.loc[df['gender']=='M']\n",
    "females= df.loc[df['gender']=='F']\n",
    "male_temps = np.array(males.temperature)\n",
    "female_temps = np.array(females.temperature)\n",
    "mu1 = np.mean(male_temps)\n",
    "mu2 = np.mean(female_temps)\n",
    "diff = mu2-mu1\n",
    "n1 = len(male_temps)\n",
    "n2 = len(female_temp)\n",
    "std1 = np.std(male_temps)\n",
    "std2 = np.std(female_temps)\n",
    "print(mu1)\n",
    "print(mu2)\n",
    "print(diff)\n",
    "criticalZ = scipy.stats.norm.ppf(.99)\n",
    "# My approach will be to use a null hypothesis that there is no difference bewteen the mean temperature of males and females\n",
    "# i.e. mu1 - mu2 = 0.  For alpha of .01 (or 99% confidence) the critical z value is for a normalized standard distribution is \n",
    "# obtained by scipy.stats.norm.ppf.  I will calculate the standard deviation of the distribution of the difference in means for  \n",
    "# this null hypothesis and multiply it by the critical z score to obtain the critical difference of means for 99% confidence.\n",
    "\n",
    "diffofmeanstd = np.sqrt((std1**2/n1)+(std2**2/n2))\n",
    "criticaldiffofmeans = diffofmeanstd*criticalZ\n",
    "print(criticaldiffofmeans)\n",
    "# The critical difference in means is ~ 0.292 which is greater than the observed difference.  Cannot reject null here.\n",
    "# This means there is 1% chance of getting a difference greater than 0.292 if the null is true.\n",
    "# It should be noted the difference is just barely under the critical value and for alpha of .05 the null would be rejected."
   ]
  }
 ],
 "metadata": {
  "kernelspec": {
   "display_name": "Python 3",
   "language": "python",
   "name": "python3"
  },
  "language_info": {
   "codemirror_mode": {
    "name": "ipython",
    "version": 3
   },
   "file_extension": ".py",
   "mimetype": "text/x-python",
   "name": "python",
   "nbconvert_exporter": "python",
   "pygments_lexer": "ipython3",
   "version": "3.6.4"
  }
 },
 "nbformat": 4,
 "nbformat_minor": 1
}
